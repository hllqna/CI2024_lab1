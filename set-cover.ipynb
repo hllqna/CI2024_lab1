{
 "cells": [
  {
   "cell_type": "markdown",
   "metadata": {},
   "source": [
    "Copyright **`(c)`** 2024 Giovanni Squillero `<giovanni.squillero@polito.it>`  \n",
    "[`https://github.com/squillero/computational-intelligence`](https://github.com/squillero/computational-intelligence)  \n",
    "Free for personal or classroom use; see [`LICENSE.md`](https://github.com/squillero/computational-intelligence/blob/master/LICENSE.md) for details. "
   ]
  },
  {
   "cell_type": "markdown",
   "metadata": {},
   "source": [
    "# Set Cover problem\n",
    "\n",
    "See: https://en.wikipedia.org/wiki/Set_cover_problem"
   ]
  },
  {
   "cell_type": "code",
   "execution_count": 97,
   "metadata": {},
   "outputs": [],
   "source": [
    "from itertools import accumulate\n",
    "import numpy as np\n",
    "import matplotlib.pyplot as plt\n",
    "from icecream import ic\n",
    "from tqdm.auto import tqdm\n",
    "import functools"
   ]
  },
  {
   "cell_type": "markdown",
   "metadata": {},
   "source": [
    "## Reproducible Initialization\n",
    "\n",
    "If you want to get reproducible results, use `rng` (and restart the kernel); for non-reproducible ones, use `np.random`."
   ]
  },
  {
   "cell_type": "code",
   "execution_count": 98,
   "metadata": {},
   "outputs": [],
   "source": [
    "# #Setting 1\n",
    "# UNIVERSE_SIZE = 100\n",
    "# NUM_SETS = 10\n",
    "# DENSITY = 0.2\n",
    "\n",
    "# #Setting 2\n",
    "UNIVERSE_SIZE = 1_000\n",
    "NUM_SETS = 100\n",
    "DENSITY = 0.2\n",
    "\n",
    "# #Setting 3\n",
    "# UNIVERSE_SIZE = 10_000\n",
    "# NUM_SETS = 1_000\n",
    "# DENSITY = 0.2\n",
    "\n",
    "#Setting 4\n",
    "# UNIVERSE_SIZE = 100_000\n",
    "# NUM_SETS = 10_000\n",
    "# DENSITY = 0.1\n",
    "\n",
    "# #Setting 5\n",
    "# UNIVERSE_SIZE = 100_000\n",
    "# NUM_SETS = 10_000\n",
    "# DENSITY = 0.2\n",
    "\n",
    "# #Setting 6\n",
    "# UNIVERSE_SIZE = 100_000\n",
    "# NUM_SETS = 10_000\n",
    "# DENSITY = 0.3\n",
    "\n",
    "MAX_STEPS = 10_000\n",
    "\n",
    "rng = np.random.Generator(np.random.PCG64([UNIVERSE_SIZE, NUM_SETS, int(10_000 * DENSITY)]))"
   ]
  },
  {
   "cell_type": "code",
   "execution_count": 99,
   "metadata": {},
   "outputs": [],
   "source": [
    "# DON'T EDIT THESE LINES!\n",
    "\n",
    "SETS = np.random.random((NUM_SETS, UNIVERSE_SIZE)) < DENSITY\n",
    "for s in range(UNIVERSE_SIZE):\n",
    "    if not np.any(SETS[:, s]):\n",
    "        SETS[np.random.randint(NUM_SETS), s] = True\n",
    "COSTS = np.pow(SETS.sum(axis=1), 1.1)"
   ]
  },
  {
   "cell_type": "markdown",
   "metadata": {},
   "source": [
    "## Helper Functions"
   ]
  },
  {
   "cell_type": "code",
   "execution_count": 100,
   "metadata": {},
   "outputs": [],
   "source": [
    "def valid(solution):\n",
    "    \"\"\"Checks whether solution is valid (ie. covers all universe)\"\"\"\n",
    "    phenotype = np.logical_or.reduce(SETS[solution])\n",
    "    return np.all(phenotype)\n",
    "\n",
    "def covered_elements(solution):\n",
    "    \"\"\"Returns the number of elements covered by the solution\"\"\"\n",
    "    phenotype = np.logical_or.reduce(SETS[solution])\n",
    "    return phenotype.sum()\n",
    "\n",
    "def counter(fn):\n",
    "    \"\"\"Simple decorator for counting number of calls\"\"\"\n",
    "\n",
    "    @functools.wraps(fn)\n",
    "    def helper(*args, **kargs):\n",
    "        helper.calls += 1\n",
    "        return fn(*args, **kargs)\n",
    "\n",
    "    helper.calls = 0\n",
    "    return helper\n",
    "\n",
    "@counter\n",
    "def cost(solution):\n",
    "    \"\"\"Returns the cost of a solution (to be minimized)\"\"\"\n",
    "    return COSTS[solution].sum()"
   ]
  },
  {
   "cell_type": "code",
   "execution_count": 101,
   "metadata": {},
   "outputs": [],
   "source": [
    "def evaluate(solution):\n",
    "    return (covered_elements(solution), -cost(solution))"
   ]
  },
  {
   "cell_type": "code",
   "execution_count": 102,
   "metadata": {},
   "outputs": [],
   "source": [
    "## Construction of initial solution\n",
    "def build_init_solution():\n",
    "\n",
    "    # Deal with duplicates if there are any\n",
    "    unique_sets, unique_indices = np.unique(SETS, axis=0, return_index=True)\n",
    "\n",
    "    # Get the number of elements each set covers as the sum of its elements\n",
    "    set_sums = unique_sets.sum(axis=1)\n",
    "\n",
    "    # Take all unique 1-element sets into the solution\n",
    "    init_solution = np.full(NUM_SETS, False)\n",
    "    init_solution[unique_indices[set_sums == 1]] = True\n",
    "\n",
    "    # Consider all unique sets covering more than 1 elements as untaken sets. \n",
    "    # Sets covering 0 elements, if any, do not add value to the solution, so they're discarded\n",
    "    untaken_sets = unique_sets[set_sums > 1]\n",
    "    untaken_indices = unique_indices[set_sums > 1]\n",
    "    untaken_sums = set_sums[set_sums > 1]\n",
    "\n",
    "    # Sort untaken sets by their sums\n",
    "    sorted_indices = np.argsort(untaken_sums)\n",
    "    untaken_sets = untaken_sets[sorted_indices]\n",
    "    untaken_indices = untaken_indices[sorted_indices]\n",
    "    untaken_sums = untaken_sums[sorted_indices]\n",
    "\n",
    "    # Add sets to the initial solution iteratively, generally preferring the ones of the smaller sum\n",
    "    while not valid(init_solution) and len(untaken_sets) > 0:\n",
    "        # Check how many elements are uncovered\n",
    "        uncovered_elements = UNIVERSE_SIZE - np.sum(np.logical_or.reduce(SETS[init_solution], axis=0))\n",
    "\n",
    "        # Move sequentially through the sorted list\n",
    "        for i in range(len(untaken_sets)):\n",
    "            sum_val = untaken_sums[i]\n",
    "            if uncovered_elements < 2 * sum_val:\n",
    "                # Check if there is a set that might cover exactly the remaining elements\n",
    "                candidate_indices = np.where(untaken_sums == uncovered_elements)[0]\n",
    "                if len(candidate_indices) > 0:\n",
    "                    sum_val = uncovered_elements\n",
    "                    i = candidate_indices[0]\n",
    "\n",
    "            selected_set_index = untaken_indices[i]\n",
    "            init_solution[selected_set_index] = True\n",
    "\n",
    "            # If the number of uncovered elements wasn't reduced with a newly taken set, this set is discarded from the solution\n",
    "            current_uncovered_elements = UNIVERSE_SIZE - np.sum(np.logical_or.reduce(SETS[init_solution], axis=0))\n",
    "            if current_uncovered_elements >= uncovered_elements:\n",
    "                init_solution[selected_set_index] = False\n",
    "            else:\n",
    "                # Remove the selected set from untaken sets\n",
    "                untaken_sets = np.delete(untaken_sets, i, axis=0)\n",
    "                untaken_indices = np.delete(untaken_indices, i, axis=0)\n",
    "                untaken_sums = np.delete(untaken_sums, i)\n",
    "                break\n",
    "\n",
    "    return init_solution"
   ]
  },
  {
   "cell_type": "code",
   "execution_count": 103,
   "metadata": {},
   "outputs": [],
   "source": [
    "def tweak(solution, temperature = 0.25):\n",
    "    mask = rng.random(NUM_SETS) < temperature\n",
    "    if not np.any(mask):\n",
    "        mask[rng.choice(NUM_SETS)] = True\n",
    "    new_solution = np.logical_xor(solution, mask)\n",
    "    return new_solution"
   ]
  },
  {
   "cell_type": "code",
   "execution_count": 104,
   "metadata": {},
   "outputs": [
    {
     "name": "stderr",
     "output_type": "stream",
     "text": [
      "ic| best_eval: (np.int64(1000), np.float64(-8417.810685962864))\n"
     ]
    },
    {
     "data": {
      "application/vnd.jupyter.widget-view+json": {
       "model_id": "8c964354e7544e378e6e8026ddfdb256",
       "version_major": 2,
       "version_minor": 0
      },
      "text/plain": [
       "  0%|          | 0/10000 [00:00<?, ?it/s]"
      ]
     },
     "metadata": {},
     "output_type": "display_data"
    },
    {
     "name": "stderr",
     "output_type": "stream",
     "text": [
      "ic| best_eval: (np.int64(1000), np.float64(-6313.309378430383))\n",
      "ic| history.index(best_eval): 1533\n",
      "ic| cost.calls: 10001\n"
     ]
    },
    {
     "data": {
      "image/png": "[encoded data removed]",
      "text/plain": [
       "<Figure size 800x500 with 1 Axes>"
      ]
     },
     "metadata": {},
     "output_type": "display_data"
    }
   ],
   "source": [
    "# Local search \n",
    "temperature = 0.3\n",
    "temp_sigma = 0.9\n",
    "era = 50\n",
    "init_solution = build_init_solution()\n",
    "best_eval = evaluate(init_solution)\n",
    "ic(best_eval)\n",
    "solution = init_solution.copy()\n",
    "history = [best_eval]\n",
    "buffer = list()\n",
    "for n in tqdm(range(MAX_STEPS)):\n",
    "        \n",
    "    if (n > 0) and (n % era == 0):\n",
    "        #check of the dynamics at the end of an era with the 1/5 success rule\n",
    "        successes = np.sum(buffer[-20:])\n",
    "        if successes > 4: #era/5:\n",
    "            temperature = temperature/temp_sigma\n",
    "        elif successes < 4: #era/5:\n",
    "            temperature = temperature*temp_sigma\n",
    "\n",
    "    new_solution = tweak(solution, temperature)\n",
    "    new_eval = evaluate(new_solution)\n",
    "\n",
    "    history.append(new_eval)\n",
    "    if new_eval > best_eval:\n",
    "        solution = new_solution\n",
    "        best_eval = new_eval\n",
    "        buffer.append(True)\n",
    "    else:\n",
    "        buffer.append(False)\n",
    "\n",
    "ic(best_eval)\n",
    "ic(history.index(best_eval))\n",
    "ic(cost.calls)\n",
    "\n",
    "hist_validity, hist_costs = zip(*history)\n",
    "colors = ['green' if val else 'red' for val in hist_validity]\n",
    "\n",
    "plt.figure(figsize=(8, 5))\n",
    "plt.plot(\n",
    "    range(len(history)),\n",
    "    list(accumulate(history, max)),\n",
    "    color=\"red\")\n",
    "_ = plt.scatter(range(len(history)), hist_costs, marker=\".\", c=colors)"
   ]
  }
 ],
 "metadata": {
  "kernelspec": {
   "display_name": "venv",
   "language": "python",
   "name": "python3"
  },
  "language_info": {
   "codemirror_mode": {
    "name": "ipython",
    "version": 3
   },
   "file_extension": ".py",
   "mimetype": "text/x-python",
   "name": "python",
   "nbconvert_exporter": "python",
   "pygments_lexer": "ipython3",
   "version": "3.12.0"
  }
 },
 "nbformat": 4,
 "nbformat_minor": 4
}
